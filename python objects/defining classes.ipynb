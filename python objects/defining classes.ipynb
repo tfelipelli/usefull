{
 "cells": [
  {
   "cell_type": "code",
   "execution_count": 1,
   "metadata": {},
   "outputs": [],
   "source": [
    "# criando uma Classe de Números Complexos\n",
    "class ComplexNumber:\n",
    "    \n",
    "    real = None\n",
    "    imag = None\n",
    "    \n",
    "    def __init__(self, real=0, imaginary=0):\n",
    "        \"\"\" Construtor \"\"\"\n",
    "        self.real = float(real)\n",
    "        self.imag = float(imaginary)\n",
    "        \n",
    "    def add(self, other):\n",
    "        \"\"\" Método para adicionar dois objetos da classe ComplexNumber \"\"\"\n",
    "        return self.__class__(\n",
    "            self.real + other.real, \n",
    "            self.imag + other.imag\n",
    "        )\n",
    "    \n",
    "    def multiply(self, other):        \n",
    "        \"\"\" Método para multiplicar dois objetos da classe ComplexNumber \"\"\"\n",
    "        real = self.real * other.real - self.imag * other.imag\n",
    "        imag = self.imag * other.real + self.real * other.imag\n",
    "        return self.__class__(real, imag)\n",
    "    \n",
    "    def __repr__(self):\n",
    "        \"\"\" Método que padroniza a representação de string do objeto \"\"\"\n",
    "        return \"{:+f}{:+f}j\".format(self.real, self.imag)"
   ]
  },
  {
   "cell_type": "code",
   "execution_count": null,
   "metadata": {},
   "outputs": [],
   "source": [
    "atributos\n",
    "real, imag\n",
    "\n",
    "métodos\n",
    "__init__, add, multiply, __repr__\n",
    "\n",
    "self\n",
    "parâmetro obrigatório em todos os métodos padrão"
   ]
  },
  {
   "cell_type": "code",
   "execution_count": 2,
   "metadata": {},
   "outputs": [],
   "source": [
    "a = ComplexNumber(1, 3)"
   ]
  },
  {
   "cell_type": "code",
   "execution_count": 3,
   "metadata": {},
   "outputs": [
    {
     "data": {
      "text/plain": [
       "__main__.ComplexNumber"
      ]
     },
     "execution_count": 3,
     "metadata": {},
     "output_type": "execute_result"
    }
   ],
   "source": [
    "a.__class__"
   ]
  },
  {
   "cell_type": "code",
   "execution_count": 4,
   "metadata": {},
   "outputs": [],
   "source": [
    "c1 = ComplexNumber(10, -3)\n",
    "c2 = ComplexNumber(-10)\n",
    "c3 = ComplexNumber(imaginary=3, real=12)\n",
    "c4 = ComplexNumber(real=7)\n",
    "c5 = ComplexNumber(real=7, imaginary=45)"
   ]
  },
  {
   "cell_type": "code",
   "execution_count": 5,
   "metadata": {},
   "outputs": [
    {
     "name": "stdout",
     "output_type": "stream",
     "text": [
      "+10.000000-3.000000j\n"
     ]
    }
   ],
   "source": [
    "print(c1)"
   ]
  },
  {
   "cell_type": "code",
   "execution_count": 6,
   "metadata": {},
   "outputs": [
    {
     "data": {
      "text/plain": [
       "10.0"
      ]
     },
     "execution_count": 6,
     "metadata": {},
     "output_type": "execute_result"
    }
   ],
   "source": [
    "c1.real"
   ]
  },
  {
   "cell_type": "code",
   "execution_count": 7,
   "metadata": {},
   "outputs": [
    {
     "data": {
      "text/plain": [
       "-3.0"
      ]
     },
     "execution_count": 7,
     "metadata": {},
     "output_type": "execute_result"
    }
   ],
   "source": [
    "c1.imag"
   ]
  },
  {
   "cell_type": "code",
   "execution_count": 8,
   "metadata": {},
   "outputs": [
    {
     "data": {
      "text/plain": [
       "+17.000000+42.000000j"
      ]
     },
     "execution_count": 8,
     "metadata": {},
     "output_type": "execute_result"
    }
   ],
   "source": [
    "c1.add(c5)"
   ]
  },
  {
   "cell_type": "code",
   "execution_count": 9,
   "metadata": {},
   "outputs": [
    {
     "data": {
      "text/plain": [
       "+205.000000+429.000000j"
      ]
     },
     "execution_count": 9,
     "metadata": {},
     "output_type": "execute_result"
    }
   ],
   "source": [
    "c1.multiply(c5)"
   ]
  },
  {
   "cell_type": "code",
   "execution_count": 10,
   "metadata": {},
   "outputs": [],
   "source": [
    "# extendendo classe por herança\n",
    "class VerboseComplexNumber(ComplexNumber):\n",
    "    \n",
    "    def __init__(self, *args, **kwargs):\n",
    "        # chama o __init__ da classe base\n",
    "        super(VerboseComplexNumber, self).__init__(*args, **kwargs)\n",
    "        print(\"Instanciando o objeto '{}'\".format(self))\n",
    "        print(\"*args: \", args)\n",
    "        print(\"**kwargs: \", kwargs)\n",
    "        \n",
    "    def add(self, other):\n",
    "        print(\"Somando os números...\")        \n",
    "        return super(VerboseComplexNumber, self).add(other)\n",
    "    \n",
    "    def __repr__(self):\n",
    "        return \"{:+.2f}{:+.2f}j\".format(self.real, self.imag)"
   ]
  },
  {
   "cell_type": "code",
   "execution_count": 11,
   "metadata": {},
   "outputs": [
    {
     "name": "stdout",
     "output_type": "stream",
     "text": [
      "Instanciando o objeto '+10.00-3.00j'\n",
      "*args:  (10,)\n",
      "**kwargs:  {'imaginary': -3}\n",
      "Instanciando o objeto '+10.00-3.00j'\n",
      "*args:  (10,)\n",
      "**kwargs:  {'imaginary': -3}\n"
     ]
    }
   ],
   "source": [
    "c1 = VerboseComplexNumber(10, imaginary=-3)\n",
    "c2 = VerboseComplexNumber(10, imaginary=-3)"
   ]
  },
  {
   "cell_type": "code",
   "execution_count": 12,
   "metadata": {},
   "outputs": [
    {
     "name": "stdout",
     "output_type": "stream",
     "text": [
      "Somando os números...\n",
      "Instanciando o objeto '+20.00-6.00j'\n",
      "*args:  (20.0, -6.0)\n",
      "**kwargs:  {}\n"
     ]
    },
    {
     "data": {
      "text/plain": [
       "__main__.VerboseComplexNumber"
      ]
     },
     "execution_count": 12,
     "metadata": {},
     "output_type": "execute_result"
    }
   ],
   "source": [
    "type(c1.add(c2))"
   ]
  },
  {
   "cell_type": "code",
   "execution_count": 13,
   "metadata": {},
   "outputs": [
    {
     "name": "stdout",
     "output_type": "stream",
     "text": [
      "Somando os números...\n",
      "Instanciando o objeto '+17.00+42.00j'\n",
      "*args:  (17.0, 42.0)\n",
      "**kwargs:  {}\n"
     ]
    },
    {
     "data": {
      "text/plain": [
       "+17.00+42.00j"
      ]
     },
     "execution_count": 13,
     "metadata": {},
     "output_type": "execute_result"
    }
   ],
   "source": [
    "c1.add(c5)"
   ]
  },
  {
   "cell_type": "code",
   "execution_count": null,
   "metadata": {},
   "outputs": [],
   "source": []
  }
 ],
 "metadata": {
  "kernelspec": {
   "display_name": "Python 3",
   "language": "python",
   "name": "python3"
  },
  "language_info": {
   "codemirror_mode": {
    "name": "ipython",
    "version": 3
   },
   "file_extension": ".py",
   "mimetype": "text/x-python",
   "name": "python",
   "nbconvert_exporter": "python",
   "pygments_lexer": "ipython3",
   "version": "3.6.4"
  }
 },
 "nbformat": 4,
 "nbformat_minor": 2
}
