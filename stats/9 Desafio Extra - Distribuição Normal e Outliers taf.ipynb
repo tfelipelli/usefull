{
 "cells": [
  {
   "cell_type": "markdown",
   "metadata": {},
   "source": [
    "# Desafio Extra - Distribuição Normal e Outliers"
   ]
  },
  {
   "cell_type": "markdown",
   "metadata": {},
   "source": [
    "___"
   ]
  },
  {
   "cell_type": "markdown",
   "metadata": {},
   "source": [
    "# Imports"
   ]
  },
  {
   "cell_type": "code",
   "execution_count": 9,
   "metadata": {},
   "outputs": [],
   "source": [
    "import numpy as np\n",
    "import pandas as pd"
   ]
  },
  {
   "cell_type": "markdown",
   "metadata": {},
   "source": [
    "# Objetivo:\n",
    "\n",
    "Analisar como a adição de _outliers_ deforma um conjunto de dados cuja distribuição é normal.\n"
   ]
  },
  {
   "cell_type": "markdown",
   "metadata": {},
   "source": [
    "# Configurações"
   ]
  },
  {
   "cell_type": "code",
   "execution_count": 10,
   "metadata": {},
   "outputs": [],
   "source": [
    "\"\"\" Não altere esse valor, pois ele permite que toda a geração aleatória seja igual para todos \"\"\"\n",
    "np.random.seed(123456789)"
   ]
  },
  {
   "cell_type": "markdown",
   "metadata": {},
   "source": [
    "## Dataset Original\n",
    "\n",
    "O dataset original é uma **Series** com 1000 elementos cujos dados pertençam a uma **distribuição normal** de média igual a **150** e desvio padrão **10**.\n",
    "\n",
    "Construção: a função **`np.random.randn`** é usada para gerar a distribuição normal, para depois transformá-la com a `média` e o `sigma` dados."
   ]
  },
  {
   "cell_type": "code",
   "execution_count": 24,
   "metadata": {},
   "outputs": [
    {
     "data": {
      "text/plain": [
       "count    1000.000000\n",
       "mean      150.476530\n",
       "std         9.934908\n",
       "min       118.635386\n",
       "25%       144.266773\n",
       "50%       150.784336\n",
       "75%       157.167991\n",
       "max       180.085990\n",
       "dtype: float64"
      ]
     },
     "execution_count": 24,
     "metadata": {},
     "output_type": "execute_result"
    }
   ],
   "source": [
    "\"\"\" Dataset Original, já criado para a solução \"\"\"\n",
    "media = 150\n",
    "sigma = 10\n",
    "serie_original = pd.Series(np.random.randn(1000)) * sigma + media\n",
    "serie_original.describe()"
   ]
  },
  {
   "cell_type": "markdown",
   "metadata": {},
   "source": [
    "## O Acumulador\n",
    "\n",
    "O acumulador é um **DataFrame** usado para acumular as transformações feitas em cima do dataset original. Cada transformação será armazenada em uma **coluna** cujo nome descreve a transformação feita sobre os dados. \n",
    "\n",
    "Insira o dataset criado na coluna de nome **original**."
   ]
  },
  {
   "cell_type": "code",
   "execution_count": 12,
   "metadata": {},
   "outputs": [
    {
     "data": {
      "text/html": [
       "<div>\n",
       "<style scoped>\n",
       "    .dataframe tbody tr th:only-of-type {\n",
       "        vertical-align: middle;\n",
       "    }\n",
       "\n",
       "    .dataframe tbody tr th {\n",
       "        vertical-align: top;\n",
       "    }\n",
       "\n",
       "    .dataframe thead th {\n",
       "        text-align: right;\n",
       "    }\n",
       "</style>\n",
       "<table border=\"1\" class=\"dataframe\">\n",
       "  <thead>\n",
       "    <tr style=\"text-align: right;\">\n",
       "      <th></th>\n",
       "      <th>original</th>\n",
       "    </tr>\n",
       "  </thead>\n",
       "  <tbody>\n",
       "    <tr>\n",
       "      <th>0</th>\n",
       "      <td>172.129020</td>\n",
       "    </tr>\n",
       "    <tr>\n",
       "      <th>1</th>\n",
       "      <td>171.283978</td>\n",
       "    </tr>\n",
       "    <tr>\n",
       "      <th>2</th>\n",
       "      <td>168.417114</td>\n",
       "    </tr>\n",
       "    <tr>\n",
       "      <th>3</th>\n",
       "      <td>150.823825</td>\n",
       "    </tr>\n",
       "    <tr>\n",
       "      <th>4</th>\n",
       "      <td>158.589637</td>\n",
       "    </tr>\n",
       "    <tr>\n",
       "      <th>2595</th>\n",
       "      <td>NaN</td>\n",
       "    </tr>\n",
       "    <tr>\n",
       "      <th>2596</th>\n",
       "      <td>NaN</td>\n",
       "    </tr>\n",
       "    <tr>\n",
       "      <th>2597</th>\n",
       "      <td>NaN</td>\n",
       "    </tr>\n",
       "    <tr>\n",
       "      <th>2598</th>\n",
       "      <td>NaN</td>\n",
       "    </tr>\n",
       "    <tr>\n",
       "      <th>2599</th>\n",
       "      <td>NaN</td>\n",
       "    </tr>\n",
       "  </tbody>\n",
       "</table>\n",
       "</div>"
      ],
      "text/plain": [
       "        original\n",
       "0     172.129020\n",
       "1     171.283978\n",
       "2     168.417114\n",
       "3     150.823825\n",
       "4     158.589637\n",
       "2595         NaN\n",
       "2596         NaN\n",
       "2597         NaN\n",
       "2598         NaN\n",
       "2599         NaN"
      ]
     },
     "execution_count": 12,
     "metadata": {},
     "output_type": "execute_result"
    }
   ],
   "source": [
    "\"\"\" Não mude o código nesta célula \"\"\"\n",
    "accum = pd.DataFrame(\n",
    "    index=range(2600),\n",
    "    columns=[\"original\"],\n",
    "    data=serie\n",
    ")\n",
    "accum.head().append(accum.tail())"
   ]
  },
  {
   "cell_type": "markdown",
   "metadata": {},
   "source": [
    "## Inserção de dados\n",
    "\n",
    "Para cada item a seguir, crie um dataset de distribuição normal contendo **N** elementos, usando a **média** e o **sigma** também fornecidos pelo item. \n",
    "\n",
    "Em seguida, concatene os novos elementos gerados à **Series** original usando o código abaixo:\n",
    "```\n",
    "series_original = series_original.append(nova_series).reset_index(drop=True)\n",
    "```\n",
    "\n",
    "Depois disso, insira a **Series** atualizada no **acumulador** em uma coluna com o **nome de coluna** fornecido em cada item.\n"
   ]
  },
  {
   "cell_type": "markdown",
   "metadata": {},
   "source": [
    "### A)  Elementos da mesma Distribuição\n",
    "* N = 300\n",
    "* média = 150\n",
    "* sigma = 10\n",
    "* coluna = \"mesma_distribuição\""
   ]
  },
  {
   "cell_type": "code",
   "execution_count": 13,
   "metadata": {},
   "outputs": [
    {
     "data": {
      "text/html": [
       "<div>\n",
       "<style scoped>\n",
       "    .dataframe tbody tr th:only-of-type {\n",
       "        vertical-align: middle;\n",
       "    }\n",
       "\n",
       "    .dataframe tbody tr th {\n",
       "        vertical-align: top;\n",
       "    }\n",
       "\n",
       "    .dataframe thead th {\n",
       "        text-align: right;\n",
       "    }\n",
       "</style>\n",
       "<table border=\"1\" class=\"dataframe\">\n",
       "  <thead>\n",
       "    <tr style=\"text-align: right;\">\n",
       "      <th></th>\n",
       "      <th>original</th>\n",
       "    </tr>\n",
       "  </thead>\n",
       "  <tbody>\n",
       "    <tr>\n",
       "      <th>0</th>\n",
       "      <td>172.129020</td>\n",
       "    </tr>\n",
       "    <tr>\n",
       "      <th>1</th>\n",
       "      <td>171.283978</td>\n",
       "    </tr>\n",
       "    <tr>\n",
       "      <th>2</th>\n",
       "      <td>168.417114</td>\n",
       "    </tr>\n",
       "    <tr>\n",
       "      <th>3</th>\n",
       "      <td>150.823825</td>\n",
       "    </tr>\n",
       "    <tr>\n",
       "      <th>4</th>\n",
       "      <td>158.589637</td>\n",
       "    </tr>\n",
       "  </tbody>\n",
       "</table>\n",
       "</div>"
      ],
      "text/plain": [
       "     original\n",
       "0  172.129020\n",
       "1  171.283978\n",
       "2  168.417114\n",
       "3  150.823825\n",
       "4  158.589637"
      ]
     },
     "execution_count": 13,
     "metadata": {},
     "output_type": "execute_result"
    }
   ],
   "source": [
    "accum.head()"
   ]
  },
  {
   "cell_type": "code",
   "execution_count": 19,
   "metadata": {},
   "outputs": [],
   "source": [
    "serie1 = pd.Series(np.random.randn(300)) * 10 + 150\n",
    "serie_alterada = serie_original.append(serie1).reset_index(drop=True)\n",
    "accum[\"mesma_distribuição\"] = serie1"
   ]
  },
  {
   "cell_type": "markdown",
   "metadata": {},
   "source": [
    "### B)  Elementos de outra distribuição\n",
    "* N = 100\n",
    "* média = 400\n",
    "* sigma = 100\n",
    "* coluna = \"outliers_adicionados\""
   ]
  },
  {
   "cell_type": "code",
   "execution_count": 20,
   "metadata": {},
   "outputs": [],
   "source": [
    "serie2 = pd.Series(np.random.randn(100)) * 100 + 400\n",
    "serie_alterada = serie_alterada.append(serie2).reset_index(drop=True)\n",
    "accum[\"outliers_adicionados\"] = serie2"
   ]
  },
  {
   "cell_type": "markdown",
   "metadata": {},
   "source": [
    "### C)  Elementos Próximos à média\n",
    "* N = 1000\n",
    "* média = 150\n",
    "* sigma = 0.1\n",
    "* coluna = \"elementos_prox_a_media\""
   ]
  },
  {
   "cell_type": "code",
   "execution_count": 21,
   "metadata": {},
   "outputs": [],
   "source": [
    "serie3 = pd.Series(np.random.randn(1000)) * 0.1 + 150\n",
    "serie_alterada = serie_alterada.append(serie3).reset_index(drop=True)\n",
    "accum[\"elementos_prox_a_media\"] = serie3"
   ]
  },
  {
   "cell_type": "markdown",
   "metadata": {},
   "source": [
    "## Avaliação das Séries:\n",
    "\n",
    "Avaliar o **acumulador** e verificar o que mudou na distribuição original. "
   ]
  },
  {
   "cell_type": "code",
   "execution_count": 23,
   "metadata": {},
   "outputs": [
    {
     "data": {
      "text/html": [
       "<div>\n",
       "<style scoped>\n",
       "    .dataframe tbody tr th:only-of-type {\n",
       "        vertical-align: middle;\n",
       "    }\n",
       "\n",
       "    .dataframe tbody tr th {\n",
       "        vertical-align: top;\n",
       "    }\n",
       "\n",
       "    .dataframe thead th {\n",
       "        text-align: right;\n",
       "    }\n",
       "</style>\n",
       "<table border=\"1\" class=\"dataframe\">\n",
       "  <thead>\n",
       "    <tr style=\"text-align: right;\">\n",
       "      <th></th>\n",
       "      <th>original</th>\n",
       "      <th>mesma_distribuição</th>\n",
       "      <th>outliers_adicionados</th>\n",
       "      <th>elementos_prox_a_media</th>\n",
       "      <th>serie_alterada</th>\n",
       "    </tr>\n",
       "  </thead>\n",
       "  <tbody>\n",
       "    <tr>\n",
       "      <th>count</th>\n",
       "      <td>1000.000000</td>\n",
       "      <td>300.000000</td>\n",
       "      <td>100.000000</td>\n",
       "      <td>1000.000000</td>\n",
       "      <td>2400.000000</td>\n",
       "    </tr>\n",
       "    <tr>\n",
       "      <th>mean</th>\n",
       "      <td>149.843799</td>\n",
       "      <td>149.558381</td>\n",
       "      <td>403.995188</td>\n",
       "      <td>150.000257</td>\n",
       "      <td>160.646141</td>\n",
       "    </tr>\n",
       "    <tr>\n",
       "      <th>std</th>\n",
       "      <td>9.675664</td>\n",
       "      <td>9.934239</td>\n",
       "      <td>92.285096</td>\n",
       "      <td>0.097261</td>\n",
       "      <td>54.632566</td>\n",
       "    </tr>\n",
       "    <tr>\n",
       "      <th>min</th>\n",
       "      <td>123.602234</td>\n",
       "      <td>118.527850</td>\n",
       "      <td>217.348783</td>\n",
       "      <td>149.654131</td>\n",
       "      <td>114.907755</td>\n",
       "    </tr>\n",
       "    <tr>\n",
       "      <th>25%</th>\n",
       "      <td>143.462341</td>\n",
       "      <td>142.624578</td>\n",
       "      <td>337.505109</td>\n",
       "      <td>149.935769</td>\n",
       "      <td>149.367030</td>\n",
       "    </tr>\n",
       "    <tr>\n",
       "      <th>50%</th>\n",
       "      <td>149.948937</td>\n",
       "      <td>149.378390</td>\n",
       "      <td>409.821876</td>\n",
       "      <td>149.997613</td>\n",
       "      <td>150.014153</td>\n",
       "    </tr>\n",
       "    <tr>\n",
       "      <th>75%</th>\n",
       "      <td>156.156120</td>\n",
       "      <td>155.882832</td>\n",
       "      <td>462.911404</td>\n",
       "      <td>150.065914</td>\n",
       "      <td>153.149077</td>\n",
       "    </tr>\n",
       "    <tr>\n",
       "      <th>max</th>\n",
       "      <td>190.067115</td>\n",
       "      <td>177.006053</td>\n",
       "      <td>627.791190</td>\n",
       "      <td>150.322432</td>\n",
       "      <td>627.791190</td>\n",
       "    </tr>\n",
       "  </tbody>\n",
       "</table>\n",
       "</div>"
      ],
      "text/plain": [
       "          original  mesma_distribuição  outliers_adicionados  \\\n",
       "count  1000.000000          300.000000            100.000000   \n",
       "mean    149.843799          149.558381            403.995188   \n",
       "std       9.675664            9.934239             92.285096   \n",
       "min     123.602234          118.527850            217.348783   \n",
       "25%     143.462341          142.624578            337.505109   \n",
       "50%     149.948937          149.378390            409.821876   \n",
       "75%     156.156120          155.882832            462.911404   \n",
       "max     190.067115          177.006053            627.791190   \n",
       "\n",
       "       elementos_prox_a_media  serie_alterada  \n",
       "count             1000.000000     2400.000000  \n",
       "mean               150.000257      160.646141  \n",
       "std                  0.097261       54.632566  \n",
       "min                149.654131      114.907755  \n",
       "25%                149.935769      149.367030  \n",
       "50%                149.997613      150.014153  \n",
       "75%                150.065914      153.149077  \n",
       "max                150.322432      627.791190  "
      ]
     },
     "execution_count": 23,
     "metadata": {},
     "output_type": "execute_result"
    }
   ],
   "source": [
    "accum[\"serie_alterada\"] = serie_alterada\n",
    "accum.describe()"
   ]
  },
  {
   "cell_type": "code",
   "execution_count": null,
   "metadata": {},
   "outputs": [],
   "source": []
  }
 ],
 "metadata": {
  "kernelspec": {
   "display_name": "Python 3",
   "language": "python",
   "name": "python3"
  },
  "language_info": {
   "codemirror_mode": {
    "name": "ipython",
    "version": 3
   },
   "file_extension": ".py",
   "mimetype": "text/x-python",
   "name": "python",
   "nbconvert_exporter": "python",
   "pygments_lexer": "ipython3",
   "version": "3.6.4"
  }
 },
 "nbformat": 4,
 "nbformat_minor": 2
}
