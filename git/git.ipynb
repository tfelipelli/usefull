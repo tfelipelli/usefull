{
 "cells": [
  {
   "cell_type": "markdown",
   "metadata": {},
   "source": [
    "# version control"
   ]
  },
  {
   "cell_type": "code",
   "execution_count": null,
   "metadata": {},
   "outputs": [],
   "source": [
    "* changes made to files and directories in a project.\n",
    "* conflict control.\n",
    "* work made by different people synchronized on different machines."
   ]
  },
  {
   "cell_type": "markdown",
   "metadata": {},
   "source": [
    "## repository"
   ]
  },
  {
   "cell_type": "code",
   "execution_count": null,
   "metadata": {},
   "outputs": [],
   "source": [
    "each Git project has two parts: \n",
    "* the files and directories that you create and edit directly, \n",
    "* and the extra information that git records about the project's history. \n",
    "\n",
    "extra information is stored at a directory called .git \n",
    "located in the root directory of the repository. "
   ]
  },
  {
   "cell_type": "markdown",
   "metadata": {},
   "source": [
    "### create new repository"
   ]
  },
  {
   "cell_type": "code",
   "execution_count": null,
   "metadata": {},
   "outputs": [],
   "source": [
    "git init <project-name>\n",
    "\"project-name\" is the name you want the new repository's root directory to have."
   ]
  },
  {
   "cell_type": "code",
   "execution_count": null,
   "metadata": {},
   "outputs": [],
   "source": [
    "turn existing project into a Git repository\n",
    "git init \n",
    "in the project's root directory\n",
    "OR\n",
    "git init </path/to/project>\n",
    "from anywhere else on your computer."
   ]
  },
  {
   "cell_type": "markdown",
   "metadata": {},
   "source": [
    "## clones and remotes"
   ]
  },
  {
   "cell_type": "code",
   "execution_count": null,
   "metadata": {},
   "outputs": [],
   "source": [
    "clone existing repository\n",
    "git clone <URL> <name of copy>"
   ]
  },
  {
   "cell_type": "code",
   "execution_count": null,
   "metadata": {},
   "outputs": [],
   "source": [
    "what are the remotes?\n",
    "git remote\n",
    "git remote -v\n",
    "\n",
    "when you clone a repository, \n",
    "git automatically creates a remote called origin that points to the original repository."
   ]
  },
  {
   "cell_type": "code",
   "execution_count": null,
   "metadata": {},
   "outputs": [],
   "source": [
    "add more remotes\n",
    "git remote add remote-name <URL>\n",
    "git remote rm remote-name"
   ]
  },
  {
   "cell_type": "code",
   "execution_count": null,
   "metadata": {},
   "outputs": [],
   "source": [
    "pull changes from\n",
    "git pull <remote> <branch>\n",
    "\n",
    "gets everything in <branch> in the remote repository identified by <remote>\n",
    "and merges it into the current branch of your local repository. \n",
    "\n",
    "if pulling changes from a remote repository might overwrite things you have done locally,\n",
    "either commit your local changes or revert them, and then try to pull again."
   ]
  },
  {
   "cell_type": "code",
   "execution_count": null,
   "metadata": {},
   "outputs": [],
   "source": [
    "push changes to\n",
    "git push <remote> <branch>\n",
    "\n",
    "pushes the contents of your <branch> \n",
    "into a branch with the same name in the remote repository associated with <remote>.\n",
    "\n",
    "git does not allow you to push changes to a remote repository \n",
    "unless you have merged the contents of the remote repository into your own work."
   ]
  },
  {
   "cell_type": "markdown",
   "metadata": {},
   "source": [
    "## information stored"
   ]
  },
  {
   "cell_type": "code",
   "execution_count": null,
   "metadata": {},
   "outputs": [],
   "source": [
    "* blob -> every unique version of every file\n",
    "* tree -> tracks names and locations of a set of files\n",
    "* commit -> author, log message, and other properties\n",
    "* branch\n",
    "\n",
    "a commit has two parents when branches are being merged."
   ]
  },
  {
   "cell_type": "markdown",
   "metadata": {},
   "source": [
    "## branch"
   ]
  },
  {
   "cell_type": "code",
   "execution_count": null,
   "metadata": {},
   "outputs": [],
   "source": [
    "git branch\n",
    "\n",
    "to list all of the branches in a repository.\n",
    "by default, every Git repository has a branch called master.\n",
    "the branch you are currently in will be shown with a * beside its name."
   ]
  },
  {
   "cell_type": "code",
   "execution_count": null,
   "metadata": {},
   "outputs": [],
   "source": [
    "git checkout <branch-name>\n",
    "switch to another branch"
   ]
  },
  {
   "cell_type": "code",
   "execution_count": null,
   "metadata": {},
   "outputs": [],
   "source": [
    "git checkout -b <branch-name>\n",
    "create a branch\n",
    "the contents of the new branch are initially identical to the contents of the original."
   ]
  },
  {
   "cell_type": "markdown",
   "metadata": {},
   "source": [
    "### merge branches"
   ]
  },
  {
   "cell_type": "code",
   "execution_count": null,
   "metadata": {},
   "outputs": [],
   "source": [
    "git incorporates changes made to the source branch into the destination branch. \n",
    "if those changes don't overlap, the result is a new commit in the destination branch \n",
    "that includes everything from the source branch.\n",
    "\n",
    "git merge <source> <destination>"
   ]
  },
  {
   "cell_type": "markdown",
   "metadata": {},
   "source": [
    "## files"
   ]
  },
  {
   "cell_type": "code",
   "execution_count": null,
   "metadata": {},
   "outputs": [],
   "source": [
    "list files\n",
    "ls"
   ]
  },
  {
   "cell_type": "code",
   "execution_count": null,
   "metadata": {},
   "outputs": [],
   "source": [
    "add file\n",
    "git add <filename>"
   ]
  },
  {
   "cell_type": "code",
   "execution_count": null,
   "metadata": {},
   "outputs": [],
   "source": [
    "edit file\n",
    "nano <filename>"
   ]
  },
  {
   "cell_type": "code",
   "execution_count": null,
   "metadata": {},
   "outputs": [],
   "source": [
    "Ctrl-K: delete a line.\n",
    "Ctrl-U: un-delete a line.\n",
    "Ctrl-O: save the file ('O' stands for 'output').\n",
    "Ctrl-X: exit the editor."
   ]
  },
  {
   "cell_type": "markdown",
   "metadata": {},
   "source": [
    "### ignoring certain files"
   ]
  },
  {
   "cell_type": "code",
   "execution_count": null,
   "metadata": {},
   "outputs": [],
   "source": [
    ".gitignore \n",
    "in the root directory of the repository\n",
    "storing a list of wildcard patterns like *.txt"
   ]
  },
  {
   "cell_type": "code",
   "execution_count": null,
   "metadata": {},
   "outputs": [],
   "source": [
    "remove unwanted files\n",
    "git clean -n (lists what will be deleted).\n",
    "git clean -f (actual delete).\n",
    "git clean only works on untracked files."
   ]
  },
  {
   "cell_type": "code",
   "execution_count": null,
   "metadata": {},
   "outputs": [],
   "source": [
    "delete file\n",
    "git rm <filename>"
   ]
  },
  {
   "cell_type": "markdown",
   "metadata": {},
   "source": [
    "### status"
   ]
  },
  {
   "cell_type": "code",
   "execution_count": null,
   "metadata": {},
   "outputs": [],
   "source": [
    "git status\n",
    "shows you which files are in the staging area, \n",
    "and which files have changes that haven't yet been put there.\n",
    "\n",
    "git does not track files by default. \n",
    "it waits until you have used git add at least once before it starts paying attention to a file. \n",
    "git status tells you about files that are in your repository but aren't (yet) being tracked."
   ]
  },
  {
   "cell_type": "markdown",
   "metadata": {},
   "source": [
    "## the hash"
   ]
  },
  {
   "cell_type": "code",
   "execution_count": null,
   "metadata": {},
   "outputs": [],
   "source": [
    "the hash is a unique ID, with 40-character hexadecimal string,\n",
    "but it only takes the first 6 or 8 characters in order to identify a commit. \n",
    "git show <hash6digits>\n",
    "displays changes made in that specific commit.\n",
    "\n",
    "hashes are what enable git to share data efficiently between repositories.\n",
    "\n",
    "a hash is an absolute path."
   ]
  },
  {
   "cell_type": "code",
   "execution_count": null,
   "metadata": {},
   "outputs": [],
   "source": [
    "another way to identify a commit is to use the equivalent of a relative path. \n",
    "git show HEAD~n\n",
    "the special label HEAD, refers to the most recent commit. \n",
    "the label HEAD~1 refers to the commit before it, HEAD~2 refers to the commit before that, and so on."
   ]
  },
  {
   "cell_type": "markdown",
   "metadata": {},
   "source": [
    "### commit"
   ]
  },
  {
   "cell_type": "code",
   "execution_count": null,
   "metadata": {},
   "outputs": [],
   "source": [
    "commit changes\n",
    "git commit\n",
    "git commit -m \"log message\"\n",
    "\n",
    "git always saves everything that is in the staging area as one unit.\n",
    "when you want to undo changes to a project, you undo all of a commit or none of it."
   ]
  },
  {
   "cell_type": "code",
   "execution_count": null,
   "metadata": {},
   "outputs": [],
   "source": [
    "log message\n",
    "git commit without -m \"message\"\n",
    "\n",
    "lines starting with # are comments, and won't be saved."
   ]
  },
  {
   "cell_type": "code",
   "execution_count": null,
   "metadata": {},
   "outputs": [],
   "source": [
    "commit changes selectively\n",
    "use \"git add <filename>\" to update what will be committed.\n",
    "use git add periodically to save the most recent changes to a file to the staging area."
   ]
  },
  {
   "cell_type": "code",
   "execution_count": null,
   "metadata": {},
   "outputs": [],
   "source": [
    "use \"git checkout -- <filename>\" to discard changes in working directory.\n",
    "use \"git reset HEAD <filename>...\" to unstage, reset the file to the state you last staged."
   ]
  },
  {
   "cell_type": "markdown",
   "metadata": {},
   "source": [
    "### conflicts"
   ]
  },
  {
   "cell_type": "code",
   "execution_count": null,
   "metadata": {},
   "outputs": [],
   "source": [
    "running git status after the merge reminds you which files have conflicts that you need to resolve \n",
    "by printing both modified: beside the files' names.\n",
    "\n",
    "inside the file, git leaves markers that look like this to tell you where the conflicts occurred:\n",
    "<<<<<<< destination-branch-name\n",
    "...changes from the destination branch...\n",
    "=======\n",
    "...changes from the source branch...\n",
    ">>>>>>> source-branch-name"
   ]
  },
  {
   "cell_type": "markdown",
   "metadata": {},
   "source": [
    "## repository history"
   ]
  },
  {
   "cell_type": "code",
   "execution_count": null,
   "metadata": {},
   "outputs": [],
   "source": [
    "git log\n",
    "git log <path>\n",
    "\n",
    "hash\n",
    "Author\n",
    "Date\n",
    "log message\n",
    "\n",
    "press the space bar to go down a page or the 'q' key to quit."
   ]
  },
  {
   "cell_type": "code",
   "execution_count": null,
   "metadata": {},
   "outputs": [],
   "source": [
    "git annotate <filename>\n",
    "the first column is the hash of the most recent commit to change that line. \n",
    "the other columns show who made the change, the date and time it was made, \n",
    "the line number, and the line itself."
   ]
  },
  {
   "cell_type": "markdown",
   "metadata": {},
   "source": [
    "### compare versions"
   ]
  },
  {
   "cell_type": "code",
   "execution_count": null,
   "metadata": {},
   "outputs": [],
   "source": [
    "git diff\n",
    "git diff <filename>\n",
    "git diff <directory>"
   ]
  },
  {
   "cell_type": "code",
   "execution_count": null,
   "metadata": {},
   "outputs": [],
   "source": [
    "git diff -r HEAD <path/to/file>\n",
    "the -r flag means \"compare to a particular revision\", \n",
    "HEAD is a shortcut meaning \"the most recent commit\", \n",
    "and the path to the file is the relative to where you are \n",
    "(for example, the path from the root directory of the repository)."
   ]
  },
  {
   "cell_type": "code",
   "execution_count": null,
   "metadata": {},
   "outputs": [],
   "source": [
    "diff --git a/report.txt b/report.txt\n",
    "index e713b17..4c0742a 100644\n",
    "--- a/report.txt\n",
    "+++ b/report.txt\n",
    "@@ -1,4 +1,4 @@\n",
    "-# Seasonal Dental Surgeries 2017-18\n",
    "+# Seasonal Dental Surgeries (2017) 2017-18"
   ]
  },
  {
   "cell_type": "code",
   "execution_count": null,
   "metadata": {},
   "outputs": [],
   "source": [
    "a and b are placeholders meaning \"the first version\" and \"the second version\".\n",
    "lines being removed are prefixed with -.\n",
    "lines being added are prefixed with +.\n",
    "a line starting with @@ tells where the changes are being made.\n",
    "line-by-line listing of the changes with - showing deletions (red) and +showing additions (green).\n",
    "lines that haven't changed are sometimes shown in order to give context; \n",
    "they don't have either + or - in front of them."
   ]
  },
  {
   "cell_type": "code",
   "execution_count": null,
   "metadata": {},
   "outputs": [],
   "source": [
    "tools like RStudio can turn diffs into a more readable side-by-side display of changes; \n",
    "you can also use standalone tools like DiffMerge or WinMerge."
   ]
  },
  {
   "cell_type": "markdown",
   "metadata": {},
   "source": [
    "### comparing changes between commits"
   ]
  },
  {
   "cell_type": "code",
   "execution_count": null,
   "metadata": {},
   "outputs": [],
   "source": [
    "git diff <hash1>..<hash2>\n",
    "git diff HEAD~1..HEAD~3"
   ]
  },
  {
   "cell_type": "code",
   "execution_count": null,
   "metadata": {},
   "outputs": [],
   "source": [
    "git diff <revision-1>..<revision-2> \n",
    "shows the difference between two versions of a repository"
   ]
  },
  {
   "cell_type": "code",
   "execution_count": null,
   "metadata": {},
   "outputs": [],
   "source": [
    "git diff <branch-1>..<branch-2> \n",
    "shows the difference between two branches."
   ]
  },
  {
   "cell_type": "markdown",
   "metadata": {},
   "source": [
    "### restoring an old version"
   ]
  },
  {
   "cell_type": "code",
   "execution_count": null,
   "metadata": {},
   "outputs": [],
   "source": [
    "git checkout <hash> <filename>\n",
    "\n",
    "the act of restoring the file is saved as another commit.\n",
    "no need to add afterwards, ready to commit."
   ]
  },
  {
   "cell_type": "markdown",
   "metadata": {},
   "source": [
    "### undo several changes"
   ]
  },
  {
   "cell_type": "code",
   "execution_count": null,
   "metadata": {},
   "outputs": [],
   "source": [
    "git reset HEAD <directory>  (unstage)\n",
    "git checkout -- <directory> (restore to previous state)\n",
    "\n",
    "use the directory name . to mean \"all of the files in or below this directory\"."
   ]
  },
  {
   "cell_type": "markdown",
   "metadata": {},
   "source": [
    "## git settings"
   ]
  },
  {
   "cell_type": "code",
   "execution_count": null,
   "metadata": {},
   "outputs": [],
   "source": [
    "git config --list\n",
    "+ one of these:\n",
    "--system: settings for every user on this computer.\n",
    "--global: settings for every one of your projects.\n",
    "--local: settings for one specific project.\n",
    "each level overrides the one above it."
   ]
  },
  {
   "cell_type": "code",
   "execution_count": null,
   "metadata": {},
   "outputs": [],
   "source": [
    "to change a configuration value for all of your projects on a particular computer:\n",
    "git config --global <setting.name> <value>"
   ]
  },
  {
   "cell_type": "code",
   "execution_count": null,
   "metadata": {},
   "outputs": [],
   "source": [
    "to set on every computer you use: \n",
    "user.name, user.email"
   ]
  }
 ],
 "metadata": {
  "kernelspec": {
   "display_name": "Python 3",
   "language": "python",
   "name": "python3"
  },
  "language_info": {
   "codemirror_mode": {
    "name": "ipython",
    "version": 3
   },
   "file_extension": ".py",
   "mimetype": "text/x-python",
   "name": "python",
   "nbconvert_exporter": "python",
   "pygments_lexer": "ipython3",
   "version": "3.6.4"
  }
 },
 "nbformat": 4,
 "nbformat_minor": 2
}
