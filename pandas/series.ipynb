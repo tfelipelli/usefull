{
 "cells": [
  {
   "cell_type": "code",
   "execution_count": 1,
   "metadata": {},
   "outputs": [],
   "source": [
    "import pandas as pd"
   ]
  },
  {
   "cell_type": "code",
   "execution_count": null,
   "metadata": {},
   "outputs": [],
   "source": [
    "series -> single brackets [ ]\n",
    "dataframe -> double brackets [[ ]]"
   ]
  },
  {
   "cell_type": "code",
   "execution_count": 2,
   "metadata": {},
   "outputs": [
    {
     "data": {
      "text/plain": [
       "Leite      2\n",
       "Ovos      12\n",
       "Carne      1\n",
       "Arroz      5\n",
       "Feijão     2\n",
       "Name: Compras, dtype: int64"
      ]
     },
     "execution_count": 2,
     "metadata": {},
     "output_type": "execute_result"
    }
   ],
   "source": [
    "#construção padrão\n",
    "pd.Series( name=\"Compras\", index=[\"Leite\", \"Ovos\", \"Carne\", \"Arroz\", \"Feijão\"], data=[2, 12, 1, 5, 2])"
   ]
  },
  {
   "cell_type": "code",
   "execution_count": 4,
   "metadata": {},
   "outputs": [
    {
     "data": {
      "text/plain": [
       "Leite    NaN\n",
       "Ovos     NaN\n",
       "Carne    NaN\n",
       "Arroz    NaN\n",
       "Feijão   NaN\n",
       "Name: Compras, dtype: float64"
      ]
     },
     "execution_count": 4,
     "metadata": {},
     "output_type": "execute_result"
    }
   ],
   "source": [
    "#construção padrão: dados desconhecidos \n",
    "pd.Series( name=\"Compras\", index=[\"Leite\", \"Ovos\", \"Carne\", \"Arroz\", \"Feijão\"])"
   ]
  },
  {
   "cell_type": "code",
   "execution_count": 5,
   "metadata": {},
   "outputs": [
    {
     "data": {
      "text/plain": [
       "Leite     fill here\n",
       "Ovos      fill here\n",
       "Carne     fill here\n",
       "Arroz     fill here\n",
       "Feijão    fill here\n",
       "Name: Compras, dtype: object"
      ]
     },
     "execution_count": 5,
     "metadata": {},
     "output_type": "execute_result"
    }
   ],
   "source": [
    "#construção padrão: valor padrão\n",
    "pd.Series( name=\"Compras\", index=[\"Leite\", \"Ovos\", \"Carne\", \"Arroz\", \"Feijão\"], data=\"fill here\")"
   ]
  },
  {
   "cell_type": "code",
   "execution_count": 6,
   "metadata": {},
   "outputs": [
    {
     "name": "stdout",
     "output_type": "stream",
     "text": [
      "Arroz      5\n",
      "Carne      1\n",
      "Feijão     2\n",
      "Leite      2\n",
      "Ovos      12\n",
      "Name: Compras, dtype: int64\n"
     ]
    }
   ],
   "source": [
    "#recebendo um dicionário\n",
    "s = pd.Series({\"Leite\": 2, \"Ovos\": 12, \"Carne\": 1, \"Arroz\": 5, \"Feijão\": 2})\n",
    "s.name = \"Compras\"\n",
    "print(s)"
   ]
  },
  {
   "cell_type": "code",
   "execution_count": 7,
   "metadata": {},
   "outputs": [
    {
     "name": "stdout",
     "output_type": "stream",
     "text": [
      "0     2\n",
      "1    12\n",
      "2     1\n",
      "3     5\n",
      "4     2\n",
      "dtype: int64\n"
     ]
    }
   ],
   "source": [
    "#recebendo uma lista\n",
    "s = pd.Series([2, 12, 1, 5, 2])\n",
    "print(s)"
   ]
  },
  {
   "cell_type": "code",
   "execution_count": null,
   "metadata": {},
   "outputs": [],
   "source": []
  }
 ],
 "metadata": {
  "kernelspec": {
   "display_name": "Python 3",
   "language": "python",
   "name": "python3"
  },
  "language_info": {
   "codemirror_mode": {
    "name": "ipython",
    "version": 3
   },
   "file_extension": ".py",
   "mimetype": "text/x-python",
   "name": "python",
   "nbconvert_exporter": "python",
   "pygments_lexer": "ipython3",
   "version": "3.6.4"
  }
 },
 "nbformat": 4,
 "nbformat_minor": 2
}
