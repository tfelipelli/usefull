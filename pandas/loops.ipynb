{
 "cells": [
  {
   "cell_type": "code",
   "execution_count": 1,
   "metadata": {},
   "outputs": [],
   "source": [
    "import pandas as pd"
   ]
  },
  {
   "cell_type": "code",
   "execution_count": 5,
   "metadata": {},
   "outputs": [
    {
     "data": {
      "text/html": [
       "<div>\n",
       "<style scoped>\n",
       "    .dataframe tbody tr th:only-of-type {\n",
       "        vertical-align: middle;\n",
       "    }\n",
       "\n",
       "    .dataframe tbody tr th {\n",
       "        vertical-align: top;\n",
       "    }\n",
       "\n",
       "    .dataframe thead th {\n",
       "        text-align: right;\n",
       "    }\n",
       "</style>\n",
       "<table border=\"1\" class=\"dataframe\">\n",
       "  <thead>\n",
       "    <tr style=\"text-align: right;\">\n",
       "      <th></th>\n",
       "      <th>Item</th>\n",
       "      <th>Quantidade</th>\n",
       "      <th>Unidade</th>\n",
       "      <th>Preço p/ Ud</th>\n",
       "      <th>Preço Total</th>\n",
       "    </tr>\n",
       "  </thead>\n",
       "  <tbody>\n",
       "    <tr>\n",
       "      <th>0</th>\n",
       "      <td>Leite</td>\n",
       "      <td>2</td>\n",
       "      <td>L</td>\n",
       "      <td>5.00</td>\n",
       "      <td>25.00</td>\n",
       "    </tr>\n",
       "    <tr>\n",
       "      <th>1</th>\n",
       "      <td>Ovos</td>\n",
       "      <td>12</td>\n",
       "      <td>Ud</td>\n",
       "      <td>29.99</td>\n",
       "      <td>29.99</td>\n",
       "    </tr>\n",
       "    <tr>\n",
       "      <th>2</th>\n",
       "      <td>Carne</td>\n",
       "      <td>1</td>\n",
       "      <td>Kg</td>\n",
       "      <td>6.50</td>\n",
       "      <td>13.00</td>\n",
       "    </tr>\n",
       "    <tr>\n",
       "      <th>3</th>\n",
       "      <td>Arroz</td>\n",
       "      <td>5</td>\n",
       "      <td>Kg</td>\n",
       "      <td>3.30</td>\n",
       "      <td>6.60</td>\n",
       "    </tr>\n",
       "    <tr>\n",
       "      <th>4</th>\n",
       "      <td>Feijão</td>\n",
       "      <td>2</td>\n",
       "      <td>Kg</td>\n",
       "      <td>0.50</td>\n",
       "      <td>6.00</td>\n",
       "    </tr>\n",
       "  </tbody>\n",
       "</table>\n",
       "</div>"
      ],
      "text/plain": [
       "     Item  Quantidade Unidade  Preço p/ Ud  Preço Total\n",
       "0   Leite           2       L         5.00        25.00\n",
       "1    Ovos          12      Ud        29.99        29.99\n",
       "2   Carne           1      Kg         6.50        13.00\n",
       "3   Arroz           5      Kg         3.30         6.60\n",
       "4  Feijão           2      Kg         0.50         6.00"
      ]
     },
     "execution_count": 5,
     "metadata": {},
     "output_type": "execute_result"
    }
   ],
   "source": [
    "df = pd.DataFrame(columns=[\"Item\",\"Quantidade\", \"Unidade\"],\n",
    "             data = [[\"Leite\",2,\"L\"],[\"Ovos\",12,\"Ud\"],[\"Carne\",1,\"Kg\"],[\"Arroz\",5,\"Kg\"],[\"Feijão\",2,\"Kg\"]])\n",
    "df[\"Preço p/ Ud\"] = [5.00, 29.99, 6.50, 3.30, 0.50]\n",
    "df[\"Preço Total\"] = [25.00, 29.99, 13.00, 6.60, 6.00]\n",
    "df"
   ]
  },
  {
   "cell_type": "code",
   "execution_count": 6,
   "metadata": {},
   "outputs": [
    {
     "name": "stdout",
     "output_type": "stream",
     "text": [
      "Leite\n",
      "Ovos\n",
      "Carne\n",
      "Arroz\n",
      "Feijão\n"
     ]
    }
   ],
   "source": [
    "for lab, row in df.iterrows() :\n",
    "    print(row[\"Item\"])  "
   ]
  },
  {
   "cell_type": "code",
   "execution_count": 12,
   "metadata": {},
   "outputs": [],
   "source": [
    "for lab, row in df.iterrows() :\n",
    "    df.loc[lab, \"Quantidade\"] = str(row[\"Quantidade\"])\n",
    "    #print(row[\"Item\"] + \": \" + row[\"Quantidade\"])"
   ]
  },
  {
   "cell_type": "code",
   "execution_count": 17,
   "metadata": {},
   "outputs": [
    {
     "name": "stdout",
     "output_type": "stream",
     "text": [
      "Leite: 2\n",
      "Ovos: 12\n",
      "Carne: 1\n",
      "Arroz: 5\n",
      "Feijão: 2\n"
     ]
    }
   ],
   "source": [
    "for lab, row in df.iterrows() :\n",
    "    #df.loc[lab, \"Quantidade\"] = str(row[\"Quantidade\"])\n",
    "    print(row[\"Item\"] + \": \" + row[\"Quantidade\"])"
   ]
  },
  {
   "cell_type": "code",
   "execution_count": null,
   "metadata": {},
   "outputs": [],
   "source": []
  }
 ],
 "metadata": {
  "kernelspec": {
   "display_name": "Python 3",
   "language": "python",
   "name": "python3"
  },
  "language_info": {
   "codemirror_mode": {
    "name": "ipython",
    "version": 3
   },
   "file_extension": ".py",
   "mimetype": "text/x-python",
   "name": "python",
   "nbconvert_exporter": "python",
   "pygments_lexer": "ipython3",
   "version": "3.6.4"
  }
 },
 "nbformat": 4,
 "nbformat_minor": 2
}
